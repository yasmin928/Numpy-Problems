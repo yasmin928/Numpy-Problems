{
 "cells": [
  {
   "cell_type": "code",
   "execution_count": 2,
   "id": "644fea15",
   "metadata": {},
   "outputs": [],
   "source": [
    "import numpy as np"
   ]
  },
  {
   "cell_type": "markdown",
   "id": "2cc9a1d7",
   "metadata": {},
   "source": [
    "# Problem 1\n",
    "\n",
    "Write a NumPy program to test whether each element of a 1-D array is also present in a second array.\n",
    "\n",
    "Input\n",
    "> Array1: [ 0 10 20 40 60]\n",
    "Array2: [0, 40]\n",
    "\n",
    "Output\n",
    "> Compare each element of array1 and array2\n",
    "Output: [ True False False True False]"
   ]
  },
  {
   "cell_type": "code",
   "execution_count": null,
   "id": "e8839c1d",
   "metadata": {},
   "outputs": [],
   "source": [
    "# your code goes here"
   ]
  },
  {
   "cell_type": "code",
   "execution_count": 2,
   "id": "8a2d8a75",
   "metadata": {
    "scrolled": true
   },
   "outputs": [
    {
     "name": "stdout",
     "output_type": "stream",
     "text": [
      "Array1: [ 0 10 20 40 60]\n",
      "Array2: [ 0 40]\n",
      "output: [ True False False  True False]\n"
     ]
    }
   ],
   "source": [
    "import numpy as np\n",
    "def existence_check(a1, a2):\n",
    "    print(f'Array1: {a1}')\n",
    "    print(f'Array2: {a2}')\n",
    "    return np.in1d(a1, a2) # isin\n",
    "\n",
    "array1 = np.array([ 0, 10, 20, 40, 60])\n",
    "array2 = np.array([0, 40])\n",
    "print(f'output: {existence_check(array1, array2)}')"
   ]
  },
  {
   "cell_type": "markdown",
   "id": "dff466bf",
   "metadata": {},
   "source": [
    "***********"
   ]
  },
  {
   "cell_type": "markdown",
   "id": "b8207cd4-a798-41ae-8aec-4321f7457295",
   "metadata": {},
   "source": [
    "# Problem 2\n",
    "\n",
    "Write a NumPy program to get the unique elements of an array\n",
    "\n",
    "input\n",
    ">Original array:\n",
    "[10 10 20 20 30 30]\n",
    "\n",
    "Output\n",
    "> Unique elements of the above array:\n",
    "[10 20 30]\n",
    "\n",
    "Input\n",
    "> Original array:\n",
    "[[1 1]\n",
    "[2 3]]\n",
    "\n",
    "Output\n",
    ">Unique elements of the above array:\n",
    "[1 2 3]"
   ]
  },
  {
   "cell_type": "code",
   "execution_count": null,
   "id": "f15ea94e",
   "metadata": {},
   "outputs": [],
   "source": [
    "# your code goes here"
   ]
  },
  {
   "cell_type": "code",
   "execution_count": 3,
   "id": "c34f04d7",
   "metadata": {},
   "outputs": [
    {
     "name": "stdout",
     "output_type": "stream",
     "text": [
      "Original array:\n",
      "[[1 1]\n",
      " [2 3]]\n",
      "Unique elements of the above array:\n",
      "[1 2 3]\n"
     ]
    }
   ],
   "source": [
    "def get_unique(original_array):\n",
    "    print(f'Original array:\\n{original_array}')\n",
    "    return np.unique(original_array)\n",
    "\n",
    "array = np.array([[1,1], [2,3]])\n",
    "print(f'Unique elements of the above array:\\n{get_unique(array)}')"
   ]
  },
  {
   "cell_type": "markdown",
   "id": "748671e3",
   "metadata": {},
   "source": [
    "***"
   ]
  },
  {
   "cell_type": "markdown",
   "id": "4223dd34",
   "metadata": {},
   "source": [
    "# Problem 3\n",
    "\n",
    "Write a NumPy program to sort an along the first, last axis of an array.\n",
    "\n",
    "Input\n",
    "\n",
    "Original array:\n",
    "> [[4 6]\n",
    "> [2 1]]\n",
    "\n",
    "Output\n",
    "> Sort along the first axis:\n",
    ">\n",
    "> [[2 1]\n",
    ">\n",
    "> [4 6]]\n",
    "\n",
    "\n",
    "> Sort along the last axis:\n",
    ">\n",
    "> [[4 6]\n",
    ">\n",
    "> [1 2]]"
   ]
  },
  {
   "cell_type": "code",
   "execution_count": null,
   "id": "c67f3bea",
   "metadata": {},
   "outputs": [],
   "source": [
    "# your code goes here"
   ]
  },
  {
   "cell_type": "code",
   "execution_count": 4,
   "id": "0626f6d6-aeda-44dc-a972-7ae8d547d40f",
   "metadata": {},
   "outputs": [
    {
     "data": {
      "text/plain": [
       "array([[1, 2],\n",
       "       [4, 6]])"
      ]
     },
     "execution_count": 4,
     "metadata": {},
     "output_type": "execute_result"
    }
   ],
   "source": [
    "array = np.array([[4, 6], \n",
    "                  [2, 1]])\n",
    "\n",
    "last = np.sort(np.sort(array, axis = 0), axis = 1)\n",
    "last"
   ]
  },
  {
   "cell_type": "code",
   "execution_count": 4,
   "id": "27add246",
   "metadata": {},
   "outputs": [
    {
     "name": "stdout",
     "output_type": "stream",
     "text": [
      "Original array:\n",
      "[[4 6]\n",
      " [2 1]]\n",
      "Sort along the first axis:\n",
      " [[2 1]\n",
      " [4 6]] \n",
      "\n",
      " sort along the last axis:\n",
      " [[4 6]\n",
      " [1 2]]\n"
     ]
    }
   ],
   "source": [
    "def arr_sort(array):\n",
    "    print(f'Original array:\\n{array}')\n",
    "    \n",
    "    #along first axis (column sort)\n",
    "    first = np.sort(array, axis = 0) # sorting the original array\n",
    "    \n",
    "    #along last axis (row sort)\n",
    "    last = np.sort(array, axis = 1) # sorting the original array\n",
    "    \n",
    "    return first, last\n",
    "\n",
    "array = np.array([[4, 6], \n",
    "                  [2, 1]])\n",
    "\n",
    "first , last = arr_sort(array)\n",
    "print(f'Sort along the first axis:\\n {first} \\n\\n sort along the last axis:\\n {last}')"
   ]
  },
  {
   "cell_type": "markdown",
   "id": "40adb89f",
   "metadata": {},
   "source": [
    "# Problem 4\n",
    "\n",
    "Write a NumPy program to count the occurrence of a specified item in a given NumPy array.\n",
    "\n",
    "Input\n",
    "> Original array:\n",
    ">\n",
    "> [10 20 20 20 20 0 20 30 30 30 0 0 20 20 0]\n",
    "> \n",
    "> item to count = 20\n",
    "\n",
    "Output\n",
    ">7"
   ]
  },
  {
   "cell_type": "code",
   "execution_count": null,
   "id": "b55519ed",
   "metadata": {},
   "outputs": [],
   "source": [
    "# your code goes here"
   ]
  },
  {
   "cell_type": "code",
   "execution_count": 15,
   "id": "0a302305-cf47-49ae-abf4-e7c2f3a9056f",
   "metadata": {},
   "outputs": [
    {
     "data": {
      "text/plain": [
       "7"
      ]
     },
     "execution_count": 15,
     "metadata": {},
     "output_type": "execute_result"
    }
   ],
   "source": [
    "array = np.array([10, 20, 20, 20, 20, 0, 20, 30, 30, 30, 0, 0, 20, 20, 0])\n",
    "np.count_nonzero(array==20)"
   ]
  },
  {
   "cell_type": "code",
   "execution_count": 6,
   "id": "8f1b9157",
   "metadata": {},
   "outputs": [
    {
     "name": "stdout",
     "output_type": "stream",
     "text": [
      "Original array:\n",
      "[10 20 20 20 20  0 20 30 30 30  0  0 20 20  0]\n",
      "\n",
      "item to count:\n",
      "20\n",
      "\n",
      "7\n"
     ]
    }
   ],
   "source": [
    "def item_count(array, item_to_count):\n",
    "    print(f'Original array:\\n{array}\\n')\n",
    "    print(f'item to count:\\n{item_to_count}\\n')\n",
    "    count = np.sum(array == item_to_count)\n",
    "    return count\n",
    "\n",
    "array = np.array([10, 20, 20, 20, 20, 0, 20, 30, 30, 30, 0, 0, 20, 20, 0])\n",
    "print(item_count(array, 20))"
   ]
  },
  {
   "cell_type": "markdown",
   "id": "ae47758f-311c-4b21-a8a4-4f29afbd48e0",
   "metadata": {},
   "source": [
    "## <font color=red> Note </font>\n",
    "\n",
    "np.sum(array == item_to_count)\n",
    "\n",
    "is using the comparison operator\n",
    "it will return a boolean list like this: [False, True, True, True, True, False, ...etc.] \n",
    "\n",
    "Then it will sum the boolean results Note that True = 1, False = 0.\n",
    "\n",
    "So, the sum will be the occurnce of the value"
   ]
  },
  {
   "cell_type": "markdown",
   "id": "586a92c0",
   "metadata": {},
   "source": [
    "***"
   ]
  },
  {
   "cell_type": "markdown",
   "id": "7f366b87",
   "metadata": {},
   "source": [
    "# Problem 5\n",
    "\n",
    "Write a NumPy program to count the occurrence of a each item in a given NumPy array.\n",
    "\n",
    "Input\n",
    "> Original array:\n",
    ">\n",
    "> [10 20 20 20 20 0 20 30 30 30 0 0 20 20 0]\n",
    "\n",
    "Output\n",
    ">[4,1,7,3]"
   ]
  },
  {
   "cell_type": "code",
   "execution_count": 13,
   "id": "a20cbad0-2445-46e2-855f-6c03de1c9735",
   "metadata": {},
   "outputs": [
    {
     "data": {
      "text/plain": [
       "array([4, 1, 7, 3])"
      ]
     },
     "execution_count": 13,
     "metadata": {},
     "output_type": "execute_result"
    }
   ],
   "source": [
    "array = np.array([10, 20, 20, 20, 20, 0, 20, 30, 30, 30, 0, 0, 20, 20, 0])\n",
    "\n",
    "np.unique(array, return_counts = True)[1]"
   ]
  },
  {
   "cell_type": "code",
   "execution_count": 14,
   "id": "22f60f7e-a656-409e-8815-7aab7f3435c8",
   "metadata": {},
   "outputs": [
    {
     "data": {
      "text/plain": [
       "array([4, 0, 0, 0, 0, 0, 0, 0, 0, 0, 1, 0, 0, 0, 0, 0, 0, 0, 0, 0, 7, 0,\n",
       "       0, 0, 0, 0, 0, 0, 0, 0, 3])"
      ]
     },
     "execution_count": 14,
     "metadata": {},
     "output_type": "execute_result"
    }
   ],
   "source": [
    "array = np.array([10, 20, 20, 20, 20, 0, 20, 30, 30, 30, 0, 0, 20, 20, 0])\n",
    "np.bincount(array)"
   ]
  },
  {
   "cell_type": "code",
   "execution_count": 15,
   "id": "65defc70-6e8c-4c5a-89ce-c7dc4265a228",
   "metadata": {},
   "outputs": [
    {
     "data": {
      "text/plain": [
       "array([0, 1, 3, 4, 7])"
      ]
     },
     "execution_count": 15,
     "metadata": {},
     "output_type": "execute_result"
    }
   ],
   "source": [
    "array = np.array([10, 20, 20, 20, 20, 0, 20, 30, 30, 30, 0, 0, 20, 20, 0]) # 0, 10, 20, 30\n",
    "bc_array = np.bincount(array) #0, 1, 3, 4, 7\n",
    "np.unique(bc_array)"
   ]
  },
  {
   "cell_type": "code",
   "execution_count": 27,
   "id": "38fa9c9c-8786-4be8-9285-f0453562dd5f",
   "metadata": {},
   "outputs": [
    {
     "name": "stdout",
     "output_type": "stream",
     "text": [
      "[ 0  0  0  0 10 20 20 20 20 20 20 20 30 30 30]\n",
      "[4 0 0 0 0 0 0 0 0 0 1 0 0 0 0 0 0 0 0 0 7 0 0 0 0 0 0 0 0 0 3]\n",
      "[np.int64(4), np.int64(1), np.int64(7), np.int64(3)]\n"
     ]
    }
   ],
   "source": [
    "array = np.array([10, 20, 20, 20, 20, 20,0, 30, 30, 30, 0, 0, 20, 20, 0]) # 0, 10, 20, 30\n",
    "\n",
    "sort_arr = np.sort(array)\n",
    "print(sort_arr)\n",
    "c = np.bincount(sort_arr)\n",
    "print(c)\n",
    "\n",
    "output = list()\n",
    "for i in np.unique(array): # 0, 10, 20, 30\n",
    "    output.append(c[i])\n",
    "print(output)"
   ]
  },
  {
   "cell_type": "code",
   "execution_count": 31,
   "id": "81052a73-e3be-47aa-a95f-ccdfe83ec74f",
   "metadata": {},
   "outputs": [
    {
     "data": {
      "text/plain": [
       "7"
      ]
     },
     "execution_count": 31,
     "metadata": {},
     "output_type": "execute_result"
    }
   ],
   "source": [
    "input = [10, 20, 20, 20, 20, 20,0, 30, 30, 30, 0, 0, 20, 20, 0]\n",
    "output = [4,0, 0, 0, 0, 0, 0, 0, 0, 0, 1, 0, 0, 0, 0, 0, 0, 0, 0, 0, 7, 0, 0, 0, 0, 0, 0, 0, 0, 0, 3]\n",
    "         [0,1, 2, 3, 4, 5, 6, 7, 8, 9,10, 11,12,13,14                                              30]\n",
    "# n = [4,0, 0, 0, 0, 0, 0, 0, 0, 0, 1, 0, 0, 0, 0, 0, 0, 0, 0, 0, 7, 0, 0, 0, 0, 0, 0, 0, 0, 0, 3]\n",
    "\n",
    "# n[20]"
   ]
  },
  {
   "cell_type": "code",
   "execution_count": null,
   "id": "b953a0b2",
   "metadata": {},
   "outputs": [],
   "source": [
    "# Your code goes here"
   ]
  },
  {
   "cell_type": "code",
   "execution_count": 11,
   "id": "1cbd6b58",
   "metadata": {},
   "outputs": [
    {
     "name": "stdout",
     "output_type": "stream",
     "text": [
      "Original array:\n",
      "[10 20 20 20 20  0 20 30 30 30  0  0 20 20  0]\n",
      "\n",
      "[4, 1, 7, 3]\n"
     ]
    }
   ],
   "source": [
    "def item_count(array):\n",
    "    print(f'Original array:\\n{array}\\n')\n",
    "    c = np.bincount(np.sort(array))\n",
    "    output = list()\n",
    "    for i in np.unique(array):\n",
    "        output.append(c[i])\n",
    "    return output\n",
    "\n",
    "array = np.array([10, 20, 20, 20, 20, 0, 20, 30, 30, 30, 0, 0, 20, 20, 0])\n",
    "print(item_count(array))"
   ]
  },
  {
   "cell_type": "markdown",
   "id": "04cfd792",
   "metadata": {},
   "source": [
    "****"
   ]
  },
  {
   "cell_type": "markdown",
   "id": "968e9f49",
   "metadata": {},
   "source": [
    "# Problem 6\n",
    "\n",
    "Write a NumPy program to remove nan values from a given array.\n",
    "\n",
    "Input\n",
    "> Original array:\n",
    ">\n",
    "> [200. 300. nan nan nan 700.]\n",
    "\n",
    "Output\n",
    "> After removing nan values:\n",
    "> [200. 300. 700.]"
   ]
  },
  {
   "cell_type": "code",
   "execution_count": 37,
   "id": "951ca4b2-842c-4831-80ce-9ccd26f67bce",
   "metadata": {},
   "outputs": [
    {
     "name": "stdout",
     "output_type": "stream",
     "text": [
      "[False False  True  True  True False]\n"
     ]
    },
    {
     "data": {
      "text/plain": [
       "array([200., 300., 700.])"
      ]
     },
     "execution_count": 37,
     "metadata": {},
     "output_type": "execute_result"
    }
   ],
   "source": [
    "array = np.array([200., 300., np.nan, np.nan, np.nan, 700.])\n",
    "print(np.isnan(array))\n",
    "array[~np.isnan(array)]  # inverse or not is nan"
   ]
  },
  {
   "cell_type": "code",
   "execution_count": 34,
   "id": "e23bac08-06fb-4824-8f2f-139efb000eb1",
   "metadata": {},
   "outputs": [
    {
     "data": {
      "text/plain": [
       "[np.float64(200.0), np.float64(300.0), np.float64(700.0)]"
      ]
     },
     "execution_count": 34,
     "metadata": {},
     "output_type": "execute_result"
    }
   ],
   "source": [
    "array = np.array([200., 300., np.nan, np.nan, np.nan, 700.])\n",
    "\n",
    "[x for x in array if np.isfinite(x)]"
   ]
  },
  {
   "cell_type": "code",
   "execution_count": 38,
   "id": "851c1359-7e70-4486-a0d9-766899f08ee1",
   "metadata": {},
   "outputs": [
    {
     "name": "stdout",
     "output_type": "stream",
     "text": [
      "[ True  True False False False  True]\n"
     ]
    },
    {
     "data": {
      "text/plain": [
       "array([200., 300., 700.])"
      ]
     },
     "execution_count": 38,
     "metadata": {},
     "output_type": "execute_result"
    }
   ],
   "source": [
    "array = np.array([200., 300., np.nan, np.nan, np.nan, 700.])\n",
    "print(np.isfinite(array))\n",
    "array[np.isfinite(array)]"
   ]
  },
  {
   "cell_type": "code",
   "execution_count": 39,
   "id": "1a28a29f-379d-45a3-830d-d8c5f76d3be4",
   "metadata": {},
   "outputs": [
    {
     "data": {
      "text/plain": [
       "array([200., 300., 700.])"
      ]
     },
     "execution_count": 39,
     "metadata": {},
     "output_type": "execute_result"
    }
   ],
   "source": [
    "array = np.array([200., 300., np.nan, np.nan, np.nan, 700.])\n",
    "array[np.logical_not(np.isnan(array))]"
   ]
  },
  {
   "cell_type": "code",
   "execution_count": 12,
   "id": "052b0425",
   "metadata": {},
   "outputs": [
    {
     "name": "stdout",
     "output_type": "stream",
     "text": [
      "Original array:\n",
      "[200. 300.  nan  nan  nan 700.]\n",
      "After removing nan values:\n",
      "[200. 300. 700.]\n"
     ]
    }
   ],
   "source": [
    "def nan_removal(array):\n",
    "    print(f'Original array:\\n{array}')\n",
    "    return array[np.logical_not(np.isnan(array))]\n",
    "\n",
    "array = np.array([200., 300., np.nan, np.nan, np.nan, 700.])\n",
    "print(f'After removing nan values:\\n{nan_removal(array)}')"
   ]
  },
  {
   "cell_type": "markdown",
   "id": "e0e6a7f8",
   "metadata": {},
   "source": [
    "***"
   ]
  },
  {
   "cell_type": "markdown",
   "id": "f9e5ae49",
   "metadata": {},
   "source": [
    "# Problem 7\n",
    "\n",
    "Write a NumPy program to calculate percentiles for a sequence or single-dimensional NumPy array.\n",
    "\n",
    "eample of an array:\n",
    "[1, 2, 3, 4, 5, 6]\n",
    "\n",
    "Input\n",
    ">50th percentile (median):\n",
    "> 3.0\n",
    "\n",
    "\n",
    "> 40th percentile:\n",
    "> 2.6\n",
    "\n",
    "\n",
    "> 90th percentile:\n",
    "> 4.6"
   ]
  },
  {
   "cell_type": "code",
   "execution_count": null,
   "id": "d36f9000",
   "metadata": {},
   "outputs": [],
   "source": [
    "# Your code goes here"
   ]
  },
  {
   "cell_type": "code",
   "execution_count": 45,
   "id": "f5bffb82",
   "metadata": {},
   "outputs": [
    {
     "name": "stdout",
     "output_type": "stream",
     "text": [
      "50th percentile (median):\n",
      "3.5\n",
      "40th percentile (median):\n",
      "3.0\n",
      "90th percentile (median):\n",
      "5.5\n"
     ]
    }
   ],
   "source": [
    "def get_percentile(array):\n",
    "    print(f'50th percentile (median):\\n{np.percentile(array, 50)}')\n",
    "    print(f'40th percentile (median):\\n{np.percentile(array, 40)}')\n",
    "    print(f'90th percentile (median):\\n{np.percentile(array, 90)}')\n",
    "\n",
    "#array = np.arange(1, 11)\n",
    "#array = np.arange(0,5)\n",
    "array = np.arange(1,7)\n",
    "get_percentile(array)"
   ]
  },
  {
   "cell_type": "markdown",
   "id": "05da865f",
   "metadata": {},
   "source": [
    "***"
   ]
  },
  {
   "cell_type": "markdown",
   "id": "529bfee4",
   "metadata": {},
   "source": [
    "# Problem 8\n",
    "\n",
    "Write a NumPy program to find indices of elements equal to zero in a NumPy array.\n",
    "\n",
    "\n",
    "Input\n",
    "> Original array:\n",
    "> [1 0 2 0 3 0 4 5 6 7 8]\n",
    "\n",
    "Output\n",
    "> Indices of elements equal to zero of the said array:\n",
    "> [1 3 5]"
   ]
  },
  {
   "cell_type": "code",
   "execution_count": 20,
   "id": "ceb28407",
   "metadata": {},
   "outputs": [],
   "source": [
    "# Your code goes here"
   ]
  },
  {
   "cell_type": "code",
   "execution_count": 17,
   "id": "1619654d",
   "metadata": {},
   "outputs": [
    {
     "name": "stdout",
     "output_type": "stream",
     "text": [
      "Original array:\n",
      "[1 0 2 0 3 0 4 5 6 7 8]\n",
      "Indices of elements equal to zero of the said array:\n",
      "[1 3 5]\n"
     ]
    }
   ],
   "source": [
    "def is_zero(array):\n",
    "    print(f'Original array:\\n{array}')\n",
    "    print(f'Indices of elements equal to zero of the said array:\\n{np.where(array == 0)[0]}')#using [0] because it return tuble\n",
    "\n",
    "array = np.array([1, 0, 2, 0, 3, 0, 4, 5, 6, 7, 8])\n",
    "is_zero(array)"
   ]
  },
  {
   "cell_type": "markdown",
   "id": "52588b07",
   "metadata": {},
   "source": [
    "***"
   ]
  },
  {
   "cell_type": "markdown",
   "id": "e61f60c9",
   "metadata": {},
   "source": [
    "# Problem 9\n",
    "\n",
    "Write a NumPy program to round elements of the array to the nearest integer, and then calculate the abslute value element wise.\n",
    "\n",
    "\n",
    "Input\n",
    "> Original array:\n",
    "> [-0.7 -1.5 -1.7 0.3 1.5 1.8 2. ]\n",
    "\n",
    "Output\n",
    "> Round elements of the array to the nearest integer:\n",
    "> [1. 2. 2. 0. 2. 2. 2.]"
   ]
  },
  {
   "cell_type": "code",
   "execution_count": null,
   "id": "39fedf0a",
   "metadata": {},
   "outputs": [],
   "source": [
    "# your code goes here"
   ]
  },
  {
   "cell_type": "code",
   "execution_count": 8,
   "id": "ca62d229",
   "metadata": {},
   "outputs": [
    {
     "name": "stdout",
     "output_type": "stream",
     "text": [
      "Original array:\n",
      "[-0.7 -1.5 -1.7  0.3  1.5  1.8  2. ]\n",
      "Round elements of the array to the nearest integer:\n",
      "[1. 2. 2. 0. 2. 2. 2.]\n",
      "or\n",
      "Round elements of the array to the nearest integer:\n",
      "[1. 2. 2. 0. 2. 2. 2.]\n"
     ]
    }
   ],
   "source": [
    "def round_get_absolute(array):\n",
    "    print(f'Original array:\\n{array}')\n",
    "    \n",
    "    #np.rint: already handles the decimals\n",
    "    print(f'Round elements of the array to the nearest integer:\\n{np.absolute(np.rint(array))}')\n",
    "    print('or')\n",
    "    #np.round: also can be used but we have to handle a sitaution where the number has two decimals \"5.62\" (decimals = 0)\n",
    "    print(f'Round elements of the array to the nearest integer:\\n{np.absolute(np.round(array, decimals = 0))}')\n",
    "    \n",
    "array = np.array([-0.7, -1.5, -1.7, 0.3, 1.5, 1.8, 2.])\n",
    "round_get_absolute(array)"
   ]
  },
  {
   "cell_type": "markdown",
   "id": "7e28327c",
   "metadata": {},
   "source": [
    "#### np.rint is specifically designed for rounding to the nearest integer.\n",
    "\n",
    "#### np.round is more general and allows for rounding to a specified number of decimal places."
   ]
  },
  {
   "cell_type": "markdown",
   "id": "3b6bdb67",
   "metadata": {},
   "source": [
    "# Problem 10\n",
    "\n",
    "Write a NumPy program to calculate the difference between neighboring elements, element-wise, and prepend [0, 0] and append[200] to a given array.\n",
    "\n",
    "Input\n",
    "> Original array:\n",
    "> [1 3 5 7 0]\n",
    "\n",
    "Output\n",
    ">Difference between neighboring elements, element-wise, and prepend [0, 0] and append[200] to the said array:\n",
    "> [ 0 0 2 2 2 -7 200]\n",
    "\n",
    "Note: difference between neighboring elements means: out[i] = a[i+1]-a[i]"
   ]
  },
  {
   "cell_type": "code",
   "execution_count": null,
   "id": "73d5814a",
   "metadata": {},
   "outputs": [],
   "source": [
    "#your code goes here"
   ]
  },
  {
   "cell_type": "code",
   "execution_count": null,
   "id": "3be1554a-fd02-40c4-8c80-1a15e5d922b9",
   "metadata": {},
   "outputs": [],
   "source": [
    "np.r_([0,0,np.diff(array), 200])"
   ]
  },
  {
   "cell_type": "code",
   "execution_count": 22,
   "id": "7f8344ff",
   "metadata": {},
   "outputs": [
    {
     "name": "stdout",
     "output_type": "stream",
     "text": [
      "Original array:\n",
      "[1 3 5 7 0]\n",
      "Difference between neighboring elements, element-wise, and prepend [0, 0] and append[200] to the said array:\n",
      "[  0   0   2   2   2  -7 200]\n"
     ]
    }
   ],
   "source": [
    "def subtract_and_insert(array):\n",
    "    print(f'Original array:\\n{array}')\n",
    "    \n",
    "    #np.insert(array_to_save_into, index, what_to_save, axis)\n",
    "    diff_with_zero = np.insert(np.diff(array), 0, [0, 0], axis = 0)\n",
    "    final_array = np.insert(diff_with_zero, len(diff_with_zero), 200, axis = 0) \n",
    "    print(f'Difference between neighboring elements, element-wise, and prepend [0, 0] and append[200] to the said array:\\n{final_array}')\n",
    "    \n",
    "array = np.array([1, 3, 5, 7, 0])\n",
    "subtract_and_insert(array)"
   ]
  },
  {
   "cell_type": "code",
   "execution_count": null,
   "id": "d2a722bc-55ee-4e9c-812d-23c1d02240d1",
   "metadata": {},
   "outputs": [],
   "source": [
    "# solution using for loops\n",
    "array = np.array([1, 3, 5, 7, 0])\n",
    "\n",
    "for x in range(1, len(array)):\n",
    "    print(array[x] - array[x-1])\n",
    "\n",
    "print()\n",
    "\n",
    "for x in range(len(array)-1):\n",
    "    print(array[x+1] - array[x])\n",
    "\n",
    "# TODO:\n",
    "# Contiue with prepend and append"
   ]
  },
  {
   "cell_type": "markdown",
   "id": "06958fc0",
   "metadata": {},
   "source": [
    "# Problem 11\n",
    "\n",
    "Write a NumPy program to get the indices of the sorted elements of a given array.\n",
    "\n",
    "Input\n",
    "> Original array:\n",
    "> [1023 5202 6230 1671 1682 5241 4532]\n",
    "\n",
    "Output\n",
    ">Indices of the sorted elements of a given array:\n",
    ">[0 3 4 6 1 5 2]"
   ]
  },
  {
   "cell_type": "code",
   "execution_count": null,
   "id": "dc972ff1",
   "metadata": {},
   "outputs": [],
   "source": [
    "# your code goes here"
   ]
  },
  {
   "cell_type": "code",
   "execution_count": 23,
   "id": "7713971b",
   "metadata": {},
   "outputs": [
    {
     "name": "stdout",
     "output_type": "stream",
     "text": [
      "Original array:\n",
      "[1023 5202 6230 1671 1682 5241 4532]\n",
      "Indices of the sorted elements of a given array:\n",
      "[0 3 4 6 1 5 2]\n"
     ]
    }
   ],
   "source": [
    "def get_indices(array):\n",
    "    print(f'Original array:\\n{array}')\n",
    "    print(f'Indices of the sorted elements of a given array:\\n{np.argsort(array)}')\n",
    "    \n",
    "array = np.array([1023, 5202, 6230, 1671, 1682, 5241, 4532])\n",
    "get_indices(array)"
   ]
  },
  {
   "cell_type": "markdown",
   "id": "4e949d0a",
   "metadata": {},
   "source": [
    "***"
   ]
  },
  {
   "cell_type": "markdown",
   "id": "54e41613",
   "metadata": {},
   "source": [
    "***"
   ]
  },
  {
   "cell_type": "code",
   "execution_count": 6,
   "id": "dda1b759-804c-4f94-991d-2ebb8a12efce",
   "metadata": {},
   "outputs": [
    {
     "name": "stdout",
     "output_type": "stream",
     "text": [
      "[-11  20  30  40  50  50  60  70]\n",
      "[-11  20  30  40  50  50  60  70]\n",
      "[-11  20  30  40  50  50  60  70]\n",
      "[-11  20  30  40  50  50  60  70]\n"
     ]
    }
   ],
   "source": [
    "import numpy as np\n",
    "array = np.array([70, 50, 20, 30, -11, 60, 50, 40])\n",
    "\n",
    "print(np.partition(array, 4))\n",
    "print(np.partition(array, 1))\n",
    "print(np.partition(array, 2))\n",
    "print(np.partition(array, 3))"
   ]
  },
  {
   "cell_type": "markdown",
   "id": "ebcfb761",
   "metadata": {},
   "source": [
    "# Problem 12\n",
    "\n",
    "Compute the euclidean distance between two arrays a and b.\n",
    "\n",
    "Input:\n",
    "> [1,2,3,4,5]\n",
    "  \n",
    "> [4,5,6,7,8]\n",
    "\n",
    "Output\n",
    ">Euclidean distance is: 6.7082"
   ]
  },
  {
   "cell_type": "code",
   "execution_count": null,
   "id": "69305cd1",
   "metadata": {},
   "outputs": [],
   "source": [
    "# your code goes here"
   ]
  },
  {
   "cell_type": "code",
   "execution_count": 26,
   "id": "bdad7e81",
   "metadata": {},
   "outputs": [
    {
     "name": "stdout",
     "output_type": "stream",
     "text": [
      "input:\n",
      "[1 2 3 4 5]\n",
      "[4 5 6 7 8]\n",
      "Euclidean distance is: 6.7082\n"
     ]
    }
   ],
   "source": [
    "def euclidean_distance_np(a1, a2):\n",
    "    \"\"\"Calculating euclidean distance using numpy linear algebra\"\"\"\n",
    "    print(f'input:\\n{a1}\\n{a2}')\n",
    "    print(f'Euclidean distance is: {np.round(np.linalg.norm(a1 - a2), decimals = 4)}')\n",
    "    \n",
    "a = np.array([1, 2, 3, 4, 5])\n",
    "b = np.array([4, 5, 6, 7, 8])\n",
    "euclidean_distance_np(a, b)"
   ]
  },
  {
   "cell_type": "markdown",
   "id": "d749d4ea",
   "metadata": {},
   "source": [
    "***"
   ]
  },
  {
   "cell_type": "markdown",
   "id": "17a6d69d",
   "metadata": {},
   "source": [
    "# Problem 13\n",
    "\n",
    "Find all the peaks in a 1D numpy array a. Peaks are points surrounded by smaller values on both sides.\n",
    "\n",
    "Input:\n",
    ">array([1, 3, 7, 1, 2, 6, 0, 1])\n",
    "\n",
    "Output:\n",
    ">array( [2, 5])\n",
    "\n",
    "where, 2 and 5 are the positions of peak values 7 and 6."
   ]
  },
  {
   "cell_type": "code",
   "execution_count": null,
   "id": "72124917",
   "metadata": {},
   "outputs": [],
   "source": [
    "# your code goes here"
   ]
  },
  {
   "cell_type": "code",
   "execution_count": 28,
   "id": "5570a37f",
   "metadata": {},
   "outputs": [
    {
     "name": "stdout",
     "output_type": "stream",
     "text": [
      "[2 5]\n"
     ]
    }
   ],
   "source": [
    "from scipy.signal import find_peaks\n",
    "def get_peaks_indices(array):\n",
    "    ind = find_peaks(array)\n",
    "    print(ind[0])\n",
    "\n",
    "\n",
    "array = np.array([1, 3, 7, 1, 2, 6, 0, 1])\n",
    "get_peaks_indices(array)"
   ]
  },
  {
   "cell_type": "markdown",
   "id": "3dea45fa",
   "metadata": {},
   "source": [
    "***"
   ]
  },
  {
   "cell_type": "markdown",
   "id": "9a3f93e3",
   "metadata": {},
   "source": [
    "# Problem 14\n",
    "\n",
    "Find the index of nth repetition of number i .\n",
    "\n",
    "Inputs\n",
    "> array([1, 2, 1, 1, 3, 4, 3, 1, 1, 2, 1, 1, 2])\n",
    "> \n",
    "> n = 5 (from user)\n",
    "> \n",
    "> i = 1 (from user)\n",
    "\n",
    "Output\n",
    ">8"
   ]
  },
  {
   "cell_type": "code",
   "execution_count": null,
   "id": "a1dc6dcd",
   "metadata": {},
   "outputs": [],
   "source": [
    "# your code goes here"
   ]
  },
  {
   "cell_type": "code",
   "execution_count": 30,
   "id": "27eb6440",
   "metadata": {},
   "outputs": [
    {
     "name": "stdout",
     "output_type": "stream",
     "text": [
      "5\n",
      "1\n",
      "output:\n",
      "8\n"
     ]
    }
   ],
   "source": [
    "def get_ind(array, n, i):\n",
    "    ind = np.argwhere(array == i)[n-1]\n",
    "    print(f'output:\\n{ind[0]}')\n",
    "    \n",
    "array = np.array([1, 2, 1, 1, 3, 4, 3, 1, 1, 2, 1, 1, 2])\n",
    "n = int(input())\n",
    "i = int(input())\n",
    "get_ind(array, n, i)"
   ]
  },
  {
   "cell_type": "code",
   "execution_count": null,
   "id": "a3a0deb4",
   "metadata": {},
   "outputs": [],
   "source": []
  },
  {
   "cell_type": "code",
   "execution_count": null,
   "id": "51237214",
   "metadata": {},
   "outputs": [],
   "source": []
  }
 ],
 "metadata": {
  "kernelspec": {
   "display_name": "Python 3 (ipykernel)",
   "language": "python",
   "name": "python3"
  },
  "language_info": {
   "codemirror_mode": {
    "name": "ipython",
    "version": 3
   },
   "file_extension": ".py",
   "mimetype": "text/x-python",
   "name": "python",
   "nbconvert_exporter": "python",
   "pygments_lexer": "ipython3",
   "version": "3.10.11"
  }
 },
 "nbformat": 4,
 "nbformat_minor": 5
}
